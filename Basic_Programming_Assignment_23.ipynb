{
  "nbformat": 4,
  "nbformat_minor": 0,
  "metadata": {
    "colab": {
      "name": "Basic_Programming_Assignment_23.ipynb",
      "provenance": []
    },
    "kernelspec": {
      "name": "python3",
      "display_name": "Python 3"
    },
    "language_info": {
      "name": "python"
    }
  },
  "cells": [
    {
      "cell_type": "markdown",
      "source": [
        "Q1)\n",
        "Create a function that takes a number as an argument and returns True or False depending\n",
        "on whether the number is symmetrical or not. A number is symmetrical when it is the same as\n",
        "its reverse.\n",
        "Examples\n",
        "is_symmetrical(7227) ➞ True\n",
        "is_symmetrical(12567) ➞ False\n",
        "is_symmetrical(44444444) ➞ True\n",
        "is_symmetrical(9939) ➞ False\n",
        "is_symmetrical(1112111) ➞ True"
      ],
      "metadata": {
        "id": "4M5wJn_TXuGr"
      }
    },
    {
      "cell_type": "code",
      "execution_count": 1,
      "metadata": {
        "id": "Ii3VLykHXoOd"
      },
      "outputs": [],
      "source": [
        "def is_symmetrical(num):\n",
        "    currentDigit = reversedDigit = 0\n",
        "    remainingNum = num\n",
        "    while(remainingNum != 0):\n",
        "\n",
        "        currentDigit = remainingNum % 10\n",
        "\n",
        "        reversedDigit = reversedDigit * 10 + currentDigit\n",
        "        print('Reveresed Digit :',reversedDigit)\n",
        "        remainingNum = remainingNum // 10\n",
        "\n",
        "    if reversedDigit == num:\n",
        "        print('Num {} is symmetrical'.format(num))\n",
        "    else:\n",
        "        print('Num {} is not symmetrical'.format(num)) "
      ]
    },
    {
      "cell_type": "code",
      "source": [
        "is_symmetrical(7227)\n"
      ],
      "metadata": {
        "colab": {
          "base_uri": "https://localhost:8080/"
        },
        "id": "XkdZttfxXybd",
        "outputId": "572177c4-0b01-4222-8f43-3c361b2c1c9d"
      },
      "execution_count": 2,
      "outputs": [
        {
          "output_type": "stream",
          "name": "stdout",
          "text": [
            "Reveresed Digit : 7\n",
            "Reveresed Digit : 72\n",
            "Reveresed Digit : 722\n",
            "Reveresed Digit : 7227\n",
            "Num 7227 is symmetrical\n"
          ]
        }
      ]
    },
    {
      "cell_type": "code",
      "source": [
        "is_symmetrical(12567)"
      ],
      "metadata": {
        "colab": {
          "base_uri": "https://localhost:8080/"
        },
        "id": "U5pTZKUQX0DG",
        "outputId": "bd17e441-689a-4ee7-ffc3-8867a60892dc"
      },
      "execution_count": 3,
      "outputs": [
        {
          "output_type": "stream",
          "name": "stdout",
          "text": [
            "Reveresed Digit : 7\n",
            "Reveresed Digit : 76\n",
            "Reveresed Digit : 765\n",
            "Reveresed Digit : 7652\n",
            "Reveresed Digit : 76521\n",
            "Num 12567 is not symmetrical\n"
          ]
        }
      ]
    },
    {
      "cell_type": "code",
      "source": [
        "is_symmetrical(44444444)\n"
      ],
      "metadata": {
        "colab": {
          "base_uri": "https://localhost:8080/"
        },
        "id": "DcY-ysLoX3QV",
        "outputId": "b874fb27-1c2c-446c-ee97-62fb7e0d6ba6"
      },
      "execution_count": 4,
      "outputs": [
        {
          "output_type": "stream",
          "name": "stdout",
          "text": [
            "Reveresed Digit : 4\n",
            "Reveresed Digit : 44\n",
            "Reveresed Digit : 444\n",
            "Reveresed Digit : 4444\n",
            "Reveresed Digit : 44444\n",
            "Reveresed Digit : 444444\n",
            "Reveresed Digit : 4444444\n",
            "Reveresed Digit : 44444444\n",
            "Num 44444444 is symmetrical\n"
          ]
        }
      ]
    },
    {
      "cell_type": "code",
      "source": [
        "is_symmetrical(9939)\n"
      ],
      "metadata": {
        "colab": {
          "base_uri": "https://localhost:8080/"
        },
        "id": "FdQlrJkwX4nJ",
        "outputId": "8ad035d5-3f6f-4ebb-ca76-cf47ad454a91"
      },
      "execution_count": 5,
      "outputs": [
        {
          "output_type": "stream",
          "name": "stdout",
          "text": [
            "Reveresed Digit : 9\n",
            "Reveresed Digit : 93\n",
            "Reveresed Digit : 939\n",
            "Reveresed Digit : 9399\n",
            "Num 9939 is not symmetrical\n"
          ]
        }
      ]
    },
    {
      "cell_type": "code",
      "source": [
        "is_symmetrical(1112111)\n"
      ],
      "metadata": {
        "colab": {
          "base_uri": "https://localhost:8080/"
        },
        "id": "7KGsA2-JX6Lg",
        "outputId": "f492d0e2-b89f-4375-92f5-13d60a68864f"
      },
      "execution_count": 6,
      "outputs": [
        {
          "output_type": "stream",
          "name": "stdout",
          "text": [
            "Reveresed Digit : 1\n",
            "Reveresed Digit : 11\n",
            "Reveresed Digit : 111\n",
            "Reveresed Digit : 1112\n",
            "Reveresed Digit : 11121\n",
            "Reveresed Digit : 111211\n",
            "Reveresed Digit : 1112111\n",
            "Num 1112111 is symmetrical\n"
          ]
        }
      ]
    },
    {
      "cell_type": "markdown",
      "source": [
        "Q2) \n",
        "Given a string of numbers separated by a comma and space, return the product of the\n",
        "numbers.\n",
        "Examples\n",
        "multiply_nums('2, 3') ➞ 6\n",
        "multiply_nums('1, 2, 3, 4') ➞ 24\n",
        "multiply_nums('54, 75, 453, 0') ➞ 0\n",
        "multiply_nums('10, -2') ➞ -20"
      ],
      "metadata": {
        "id": "QwN44OI0X-j9"
      }
    },
    {
      "cell_type": "code",
      "source": [
        "def multiply_nums(s):\n",
        "    s = s.replace(' ', \"\")\n",
        "    s = s.split(',')\n",
        "    sum = 1\n",
        "    for i in s:\n",
        "        sum = sum * int(i)\n",
        "    return sum"
      ],
      "metadata": {
        "id": "eAdfiG36X8YX"
      },
      "execution_count": 7,
      "outputs": []
    },
    {
      "cell_type": "code",
      "source": [
        "multiply_nums('2, 3')\n"
      ],
      "metadata": {
        "colab": {
          "base_uri": "https://localhost:8080/"
        },
        "id": "hf8P5p6NYBds",
        "outputId": "256a692c-ebce-4ddd-b9ff-9e9597e5f317"
      },
      "execution_count": 8,
      "outputs": [
        {
          "output_type": "execute_result",
          "data": {
            "text/plain": [
              "6"
            ]
          },
          "metadata": {},
          "execution_count": 8
        }
      ]
    },
    {
      "cell_type": "code",
      "source": [
        "multiply_nums('1,2,3,4')"
      ],
      "metadata": {
        "colab": {
          "base_uri": "https://localhost:8080/"
        },
        "id": "mXt-NhzdYMyL",
        "outputId": "65731c99-c38f-403e-adc8-cdd207beded6"
      },
      "execution_count": 9,
      "outputs": [
        {
          "output_type": "execute_result",
          "data": {
            "text/plain": [
              "24"
            ]
          },
          "metadata": {},
          "execution_count": 9
        }
      ]
    },
    {
      "cell_type": "code",
      "source": [
        "multiply_nums('54,75,453,0')"
      ],
      "metadata": {
        "colab": {
          "base_uri": "https://localhost:8080/"
        },
        "id": "r0FXiiKJYRv1",
        "outputId": "23475756-e181-46e6-fa9f-4488dad162ee"
      },
      "execution_count": 10,
      "outputs": [
        {
          "output_type": "execute_result",
          "data": {
            "text/plain": [
              "0"
            ]
          },
          "metadata": {},
          "execution_count": 10
        }
      ]
    },
    {
      "cell_type": "code",
      "source": [
        "multiply_nums('10,-2')"
      ],
      "metadata": {
        "colab": {
          "base_uri": "https://localhost:8080/"
        },
        "id": "-tfb1oSSYWg0",
        "outputId": "18f1c8b3-4ae7-47e9-f7d4-4c0129135283"
      },
      "execution_count": 11,
      "outputs": [
        {
          "output_type": "execute_result",
          "data": {
            "text/plain": [
              "-20"
            ]
          },
          "metadata": {},
          "execution_count": 11
        }
      ]
    },
    {
      "cell_type": "markdown",
      "source": [
        "Q3) \n",
        "Create a function that squares every digit of a number.\n",
        "Examples\n",
        "square_digits(9119) ➞ 811181\n",
        "square_digits(2483) ➞ 416649\n",
        "square_digits(3212) ➞ 9414\n",
        "Notes\n",
        "The function receives an integer and must return an integer."
      ],
      "metadata": {
        "id": "QASb3_RaYaNJ"
      }
    },
    {
      "cell_type": "code",
      "source": [
        "def square_digits(num):\n",
        "    z = ''.join(str(int(i)**2) for i in str(num))\n",
        "    return int(z)"
      ],
      "metadata": {
        "id": "vfFMj_bdYZHH"
      },
      "execution_count": 12,
      "outputs": []
    },
    {
      "cell_type": "code",
      "source": [
        "square_digits(9119)\n"
      ],
      "metadata": {
        "colab": {
          "base_uri": "https://localhost:8080/"
        },
        "id": "dJSJg--jYhIe",
        "outputId": "bddb9203-17cc-4a8f-de64-7400c17916d8"
      },
      "execution_count": 13,
      "outputs": [
        {
          "output_type": "execute_result",
          "data": {
            "text/plain": [
              "811181"
            ]
          },
          "metadata": {},
          "execution_count": 13
        }
      ]
    },
    {
      "cell_type": "code",
      "source": [
        "square_digits(2483)\n"
      ],
      "metadata": {
        "colab": {
          "base_uri": "https://localhost:8080/"
        },
        "id": "AYtgHN5eYjJS",
        "outputId": "b882ba19-0a10-44ac-a3db-6c714647f892"
      },
      "execution_count": 14,
      "outputs": [
        {
          "output_type": "execute_result",
          "data": {
            "text/plain": [
              "416649"
            ]
          },
          "metadata": {},
          "execution_count": 14
        }
      ]
    },
    {
      "cell_type": "code",
      "source": [
        "square_digits(3212)\n"
      ],
      "metadata": {
        "colab": {
          "base_uri": "https://localhost:8080/"
        },
        "id": "6vEV2bihYkli",
        "outputId": "6053ad11-52fd-4444-ba16-c1fe7a36096b"
      },
      "execution_count": 15,
      "outputs": [
        {
          "output_type": "execute_result",
          "data": {
            "text/plain": [
              "9414"
            ]
          },
          "metadata": {},
          "execution_count": 15
        }
      ]
    },
    {
      "cell_type": "markdown",
      "source": [
        "Q4) \n",
        "Create a function that sorts a list and removes all duplicate items from it.\n",
        "Examples\n",
        "setify([1, 3, 3, 5, 5]) ➞ [1, 3, 5]\n",
        "setify([4, 4, 4, 4]) ➞ [4]\n",
        "setify([5, 7, 8, 9, 10, 15]) ➞ [5, 7, 8, 9, 10, 15]\n",
        "setify([3, 3, 3, 2, 1]) ➞ [1, 2, 3]"
      ],
      "metadata": {
        "id": "4O-eXG5oYqte"
      }
    },
    {
      "cell_type": "code",
      "source": [
        "def setify(lst):\n",
        "    return list(set(lst))"
      ],
      "metadata": {
        "id": "vJuTFIlcYnc5"
      },
      "execution_count": 16,
      "outputs": []
    },
    {
      "cell_type": "code",
      "source": [
        "setify([1, 3, 3, 5, 5])\n"
      ],
      "metadata": {
        "colab": {
          "base_uri": "https://localhost:8080/"
        },
        "id": "Ml5DA239YuPN",
        "outputId": "1c0559be-e121-46ea-8eb6-437980fa2866"
      },
      "execution_count": 17,
      "outputs": [
        {
          "output_type": "execute_result",
          "data": {
            "text/plain": [
              "[1, 3, 5]"
            ]
          },
          "metadata": {},
          "execution_count": 17
        }
      ]
    },
    {
      "cell_type": "code",
      "source": [
        "setify([4,4,4,4])\n"
      ],
      "metadata": {
        "colab": {
          "base_uri": "https://localhost:8080/"
        },
        "id": "yGHxQe4YYv8u",
        "outputId": "335dad3d-7e89-4af9-9f43-1cf8059b9c75"
      },
      "execution_count": 18,
      "outputs": [
        {
          "output_type": "execute_result",
          "data": {
            "text/plain": [
              "[4]"
            ]
          },
          "metadata": {},
          "execution_count": 18
        }
      ]
    },
    {
      "cell_type": "code",
      "source": [
        "setify([5,7,8,9,10,15])\n"
      ],
      "metadata": {
        "colab": {
          "base_uri": "https://localhost:8080/"
        },
        "id": "7zTlhqwgYyVH",
        "outputId": "77ccb362-d13b-4122-ef5d-0ce6adf9ba49"
      },
      "execution_count": 19,
      "outputs": [
        {
          "output_type": "execute_result",
          "data": {
            "text/plain": [
              "[5, 7, 8, 9, 10, 15]"
            ]
          },
          "metadata": {},
          "execution_count": 19
        }
      ]
    },
    {
      "cell_type": "code",
      "source": [
        "setify([3,3,3,2,1])\n"
      ],
      "metadata": {
        "colab": {
          "base_uri": "https://localhost:8080/"
        },
        "id": "e2Jo8w0DY1_u",
        "outputId": "4c87add2-1f1d-427e-ff57-d7f1d9b04e8e"
      },
      "execution_count": 20,
      "outputs": [
        {
          "output_type": "execute_result",
          "data": {
            "text/plain": [
              "[1, 2, 3]"
            ]
          },
          "metadata": {},
          "execution_count": 20
        }
      ]
    },
    {
      "cell_type": "markdown",
      "source": [
        "Q5) \n",
        "Create a function that returns the mean of all digits.\n",
        "Examples\n",
        "mean(42) ➞ 3\n",
        "mean(12345) ➞ 3\n",
        "mean(666) ➞ 6\n",
        "Notes\n",
        " The mean of all digits is the sum of digits / how many digits there are (e.g. mean of digits in\n",
        "512 is (5+1+2)/3(number of digits) = 8/3=2).\n",
        " The mean will always be an integer."
      ],
      "metadata": {
        "id": "uv9ZoVM_Y7l-"
      }
    },
    {
      "cell_type": "code",
      "source": [
        "def mean(n): \n",
        "    N = len(str(n)) \n",
        "    sum = mean = 0\n",
        "    \n",
        "    for digit in str(n):\n",
        "        sum += int(digit)       \n",
        "    return int(sum/N)"
      ],
      "metadata": {
        "id": "ols2ohOdY5QQ"
      },
      "execution_count": 21,
      "outputs": []
    },
    {
      "cell_type": "code",
      "source": [
        "mean(42)\n"
      ],
      "metadata": {
        "colab": {
          "base_uri": "https://localhost:8080/"
        },
        "id": "d5BdT253ZATN",
        "outputId": "04592c00-ba21-4b69-882f-894ad0ce0a37"
      },
      "execution_count": 22,
      "outputs": [
        {
          "output_type": "execute_result",
          "data": {
            "text/plain": [
              "3"
            ]
          },
          "metadata": {},
          "execution_count": 22
        }
      ]
    },
    {
      "cell_type": "code",
      "source": [
        "mean(12345)\n"
      ],
      "metadata": {
        "colab": {
          "base_uri": "https://localhost:8080/"
        },
        "id": "chzN0sU0ZCCF",
        "outputId": "8f94bb8a-b93b-4fe3-f0a9-8a0f0b9b93a6"
      },
      "execution_count": 23,
      "outputs": [
        {
          "output_type": "execute_result",
          "data": {
            "text/plain": [
              "3"
            ]
          },
          "metadata": {},
          "execution_count": 23
        }
      ]
    },
    {
      "cell_type": "code",
      "source": [
        "mean(666)\n"
      ],
      "metadata": {
        "colab": {
          "base_uri": "https://localhost:8080/"
        },
        "id": "HsTe774nZDbN",
        "outputId": "5c5f897d-339b-4cfa-aec3-d1dcc9561ad3"
      },
      "execution_count": 24,
      "outputs": [
        {
          "output_type": "execute_result",
          "data": {
            "text/plain": [
              "6"
            ]
          },
          "metadata": {},
          "execution_count": 24
        }
      ]
    },
    {
      "cell_type": "code",
      "source": [
        ""
      ],
      "metadata": {
        "id": "raVpY25yZFDF"
      },
      "execution_count": null,
      "outputs": []
    }
  ]
}